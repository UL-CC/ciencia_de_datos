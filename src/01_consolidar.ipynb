{
 "cells": [
  {
   "cell_type": "markdown",
   "id": "3b334373-2579-454e-800f-23d3c630c5e7",
   "metadata": {},
   "source": [
    "# Universidad Libre - Seccional Cali<br>Facultad de Ingeniería - Diplomado en Ciencia de Datos<br>(ↄ) Diego Fernando Marin, 2024\n",
    "\n",
    "# 01_consolidar\n",
    "Plantilla para el desarrollo del proyecto del diplomado de Ciencia de Datos, aplicando buenas prácticas.\n",
    "\n",
    "---"
   ]
  },
  {
   "cell_type": "markdown",
   "id": "9d4945e2-648c-4fcd-aa42-738f6a99f46c",
   "metadata": {},
   "source": [
    "Este cuaderno se enfoca en la integración de las distintas fuentes de datos en un formato cohesivo y estructurado. Aquí transformamos múltiples conjuntos de datos en una base unificada que servirá para los análisis posteriores.\n",
    "\n",
    "**Propósito:** Crear una vista unificada y coherente de todos los datos recolectados, facilitando su posterior procesamiento y análisis.\n",
    "\n",
    "**Tareas habituales:**\n",
    "- Renombrar archivos\n",
    "- Unión vertical de archivos complementarios (`union`)\n",
    "- Combinar archivos (`joins`: inner, left, right, full outer)\n",
    "- Estandarización inicial de formatos de columnas\n",
    "- Verificación de consistencia en las uniones\n",
    "- Validación de cardinalidad en las relaciones\n",
    "- Gestión de duplicados producto de las uniones"
   ]
  },
  {
   "cell_type": "code",
   "execution_count": 1,
   "id": "8ceb371f-2d31-46a8-98b8-c0eb586ba87c",
   "metadata": {},
   "outputs": [],
   "source": [
    "import os\n",
    "import pandas as pd"
   ]
  },
  {
   "cell_type": "code",
   "execution_count": 3,
   "id": "26aebbfe-4d70-4e05-9b80-0fd8dbb25da4",
   "metadata": {},
   "outputs": [],
   "source": [
    "cwd = os.getcwd() # current working directory\n",
    "raw_dir = cwd + '/../data/raw/'\n",
    "landing_dir = cwd + '/../data/landing/'"
   ]
  },
  {
   "cell_type": "markdown",
   "id": "29a179fc-0c84-41e0-8061-77c0bf88bb0b",
   "metadata": {},
   "source": [
    "1. Recorriendo los diferentes directorios y sacando los nombres de los archivos:"
   ]
  },
  {
   "cell_type": "code",
   "execution_count": 5,
   "id": "be8a418a-c94d-4fe4-ad75-8dea56f4d47c",
   "metadata": {},
   "outputs": [],
   "source": [
    "archivos = []\n",
    "for ruta in os.listdir(raw_dir):\n",
    "    if os.path.isdir(raw_dir + ruta):\n",
    "        for archivo in os.listdir(raw_dir + ruta):\n",
    "            # validar si es Excel?\n",
    "            archivos.append(raw_dir + ruta + '/' + archivo)"
   ]
  },
  {
   "cell_type": "code",
   "execution_count": 7,
   "id": "e599e517-fd87-4490-97ee-4752d6d80d72",
   "metadata": {},
   "outputs": [
    {
     "data": {
      "text/plain": [
       "['/Users/dfmarin/Public/Proyecto_Ciencia_de_Datos/src/../data/raw/2022/11_noviembre.xlsx',\n",
       " '/Users/dfmarin/Public/Proyecto_Ciencia_de_Datos/src/../data/raw/2022/12_diciembre.xlsx',\n",
       " '/Users/dfmarin/Public/Proyecto_Ciencia_de_Datos/src/../data/raw/2024/03_marzo.xlsx',\n",
       " '/Users/dfmarin/Public/Proyecto_Ciencia_de_Datos/src/../data/raw/2024/01_enero.xlsx',\n",
       " '/Users/dfmarin/Public/Proyecto_Ciencia_de_Datos/src/../data/raw/2024/02_febrero.xlsx',\n",
       " '/Users/dfmarin/Public/Proyecto_Ciencia_de_Datos/src/../data/raw/2023/03_marzo.xlsx',\n",
       " '/Users/dfmarin/Public/Proyecto_Ciencia_de_Datos/src/../data/raw/2023/11_noviembre.xlsx',\n",
       " '/Users/dfmarin/Public/Proyecto_Ciencia_de_Datos/src/../data/raw/2023/01_enero.xlsx',\n",
       " '/Users/dfmarin/Public/Proyecto_Ciencia_de_Datos/src/../data/raw/2023/07_julio.xlsx',\n",
       " '/Users/dfmarin/Public/Proyecto_Ciencia_de_Datos/src/../data/raw/2023/09_septiembre.xlsx',\n",
       " '/Users/dfmarin/Public/Proyecto_Ciencia_de_Datos/src/../data/raw/2023/04_abril.xlsx',\n",
       " '/Users/dfmarin/Public/Proyecto_Ciencia_de_Datos/src/../data/raw/2023/12_diciembre.xlsx',\n",
       " '/Users/dfmarin/Public/Proyecto_Ciencia_de_Datos/src/../data/raw/2023/10_octubre.xlsx',\n",
       " '/Users/dfmarin/Public/Proyecto_Ciencia_de_Datos/src/../data/raw/2023/06_junio.xlsx',\n",
       " '/Users/dfmarin/Public/Proyecto_Ciencia_de_Datos/src/../data/raw/2023/05_mayo.xlsx',\n",
       " '/Users/dfmarin/Public/Proyecto_Ciencia_de_Datos/src/../data/raw/2023/02_febrero.xlsx',\n",
       " '/Users/dfmarin/Public/Proyecto_Ciencia_de_Datos/src/../data/raw/2023/08_agosto.xlsx']"
      ]
     },
     "execution_count": 7,
     "metadata": {},
     "output_type": "execute_result"
    }
   ],
   "source": [
    "archivos"
   ]
  },
  {
   "cell_type": "code",
   "execution_count": 9,
   "id": "5491634d-e7b4-458b-9ae3-038c783d2dab",
   "metadata": {},
   "outputs": [],
   "source": [
    "df = pd.DataFrame()\n",
    "\n",
    "for archivo in sorted(archivos):\n",
    "    df_temp = pd.read_excel(archivo)\n",
    "    df = pd.concat([df, df_temp], ignore_index=True)"
   ]
  },
  {
   "cell_type": "code",
   "execution_count": 11,
   "id": "669826a0-e75b-42fa-acde-c2adbc73bf36",
   "metadata": {},
   "outputs": [
    {
     "data": {
      "text/html": [
       "<div>\n",
       "<style scoped>\n",
       "    .dataframe tbody tr th:only-of-type {\n",
       "        vertical-align: middle;\n",
       "    }\n",
       "\n",
       "    .dataframe tbody tr th {\n",
       "        vertical-align: top;\n",
       "    }\n",
       "\n",
       "    .dataframe thead th {\n",
       "        text-align: right;\n",
       "    }\n",
       "</style>\n",
       "<table border=\"1\" class=\"dataframe\">\n",
       "  <thead>\n",
       "    <tr style=\"text-align: right;\">\n",
       "      <th></th>\n",
       "      <th>fecha</th>\n",
       "      <th>codigo</th>\n",
       "      <th>venta</th>\n",
       "    </tr>\n",
       "  </thead>\n",
       "  <tbody>\n",
       "    <tr>\n",
       "      <th>0</th>\n",
       "      <td>2022-11-01</td>\n",
       "      <td>1434</td>\n",
       "      <td>121672.710000</td>\n",
       "    </tr>\n",
       "    <tr>\n",
       "      <th>1</th>\n",
       "      <td>2022-11-02</td>\n",
       "      <td>1656</td>\n",
       "      <td>133636.640000</td>\n",
       "    </tr>\n",
       "    <tr>\n",
       "      <th>2</th>\n",
       "      <td>2022-11-03</td>\n",
       "      <td>1875</td>\n",
       "      <td>210932.180000</td>\n",
       "    </tr>\n",
       "    <tr>\n",
       "      <th>3</th>\n",
       "      <td>2022-11-04</td>\n",
       "      <td>1434</td>\n",
       "      <td>111660.390000</td>\n",
       "    </tr>\n",
       "    <tr>\n",
       "      <th>4</th>\n",
       "      <td>2022-11-05</td>\n",
       "      <td>1545</td>\n",
       "      <td>146417.560000</td>\n",
       "    </tr>\n",
       "    <tr>\n",
       "      <th>...</th>\n",
       "      <td>...</td>\n",
       "      <td>...</td>\n",
       "      <td>...</td>\n",
       "    </tr>\n",
       "    <tr>\n",
       "      <th>512</th>\n",
       "      <td>2024-03-27</td>\n",
       "      <td>1156</td>\n",
       "      <td>452331.135622</td>\n",
       "    </tr>\n",
       "    <tr>\n",
       "      <th>513</th>\n",
       "      <td>2024-03-28</td>\n",
       "      <td>1375</td>\n",
       "      <td>246045.083440</td>\n",
       "    </tr>\n",
       "    <tr>\n",
       "      <th>514</th>\n",
       "      <td>2024-03-29</td>\n",
       "      <td>934</td>\n",
       "      <td>425815.429745</td>\n",
       "    </tr>\n",
       "    <tr>\n",
       "      <th>515</th>\n",
       "      <td>2024-03-30</td>\n",
       "      <td>1156</td>\n",
       "      <td>320997.018300</td>\n",
       "    </tr>\n",
       "    <tr>\n",
       "      <th>516</th>\n",
       "      <td>2024-03-31</td>\n",
       "      <td>1375</td>\n",
       "      <td>435508.682265</td>\n",
       "    </tr>\n",
       "  </tbody>\n",
       "</table>\n",
       "<p>517 rows × 3 columns</p>\n",
       "</div>"
      ],
      "text/plain": [
       "         fecha  codigo          venta\n",
       "0   2022-11-01    1434  121672.710000\n",
       "1   2022-11-02    1656  133636.640000\n",
       "2   2022-11-03    1875  210932.180000\n",
       "3   2022-11-04    1434  111660.390000\n",
       "4   2022-11-05    1545  146417.560000\n",
       "..         ...     ...            ...\n",
       "512 2024-03-27    1156  452331.135622\n",
       "513 2024-03-28    1375  246045.083440\n",
       "514 2024-03-29     934  425815.429745\n",
       "515 2024-03-30    1156  320997.018300\n",
       "516 2024-03-31    1375  435508.682265\n",
       "\n",
       "[517 rows x 3 columns]"
      ]
     },
     "execution_count": 11,
     "metadata": {},
     "output_type": "execute_result"
    }
   ],
   "source": [
    "df"
   ]
  },
  {
   "cell_type": "markdown",
   "id": "9c93b60f-413c-499e-b4e3-67186311deb5",
   "metadata": {},
   "source": [
    "2. Buscando todos los archivos con una condición, usando Glob:"
   ]
  },
  {
   "cell_type": "code",
   "execution_count": 13,
   "id": "546ed026-109a-4256-b8a5-4c396c028ece",
   "metadata": {},
   "outputs": [],
   "source": [
    "import glob"
   ]
  },
  {
   "cell_type": "code",
   "execution_count": 15,
   "id": "ba754658-2434-4866-a15d-76bfca879803",
   "metadata": {},
   "outputs": [],
   "source": [
    "archivos = glob.glob(raw_dir + '*/*.xlsx')"
   ]
  },
  {
   "cell_type": "code",
   "execution_count": 17,
   "id": "c66218db-46c9-43c4-9659-2b1ca5002bc5",
   "metadata": {},
   "outputs": [
    {
     "data": {
      "text/plain": [
       "['/Users/dfmarin/Public/Proyecto_Ciencia_de_Datos/src/../data/raw/2022/11_noviembre.xlsx',\n",
       " '/Users/dfmarin/Public/Proyecto_Ciencia_de_Datos/src/../data/raw/2022/12_diciembre.xlsx',\n",
       " '/Users/dfmarin/Public/Proyecto_Ciencia_de_Datos/src/../data/raw/2024/03_marzo.xlsx',\n",
       " '/Users/dfmarin/Public/Proyecto_Ciencia_de_Datos/src/../data/raw/2024/01_enero.xlsx',\n",
       " '/Users/dfmarin/Public/Proyecto_Ciencia_de_Datos/src/../data/raw/2024/02_febrero.xlsx',\n",
       " '/Users/dfmarin/Public/Proyecto_Ciencia_de_Datos/src/../data/raw/2023/03_marzo.xlsx',\n",
       " '/Users/dfmarin/Public/Proyecto_Ciencia_de_Datos/src/../data/raw/2023/11_noviembre.xlsx',\n",
       " '/Users/dfmarin/Public/Proyecto_Ciencia_de_Datos/src/../data/raw/2023/01_enero.xlsx',\n",
       " '/Users/dfmarin/Public/Proyecto_Ciencia_de_Datos/src/../data/raw/2023/07_julio.xlsx',\n",
       " '/Users/dfmarin/Public/Proyecto_Ciencia_de_Datos/src/../data/raw/2023/09_septiembre.xlsx',\n",
       " '/Users/dfmarin/Public/Proyecto_Ciencia_de_Datos/src/../data/raw/2023/04_abril.xlsx',\n",
       " '/Users/dfmarin/Public/Proyecto_Ciencia_de_Datos/src/../data/raw/2023/12_diciembre.xlsx',\n",
       " '/Users/dfmarin/Public/Proyecto_Ciencia_de_Datos/src/../data/raw/2023/10_octubre.xlsx',\n",
       " '/Users/dfmarin/Public/Proyecto_Ciencia_de_Datos/src/../data/raw/2023/06_junio.xlsx',\n",
       " '/Users/dfmarin/Public/Proyecto_Ciencia_de_Datos/src/../data/raw/2023/05_mayo.xlsx',\n",
       " '/Users/dfmarin/Public/Proyecto_Ciencia_de_Datos/src/../data/raw/2023/02_febrero.xlsx',\n",
       " '/Users/dfmarin/Public/Proyecto_Ciencia_de_Datos/src/../data/raw/2023/08_agosto.xlsx']"
      ]
     },
     "execution_count": 17,
     "metadata": {},
     "output_type": "execute_result"
    }
   ],
   "source": [
    "archivos"
   ]
  },
  {
   "cell_type": "code",
   "execution_count": 19,
   "id": "bfb7fb29-ad75-499a-81e2-2d257746c450",
   "metadata": {},
   "outputs": [],
   "source": [
    "datos = []\n",
    "for archivo in sorted(archivos):\n",
    "    datos.append(pd.read_excel(archivo))\n",
    "\n",
    "df = pd.concat(datos, ignore_index=True)"
   ]
  },
  {
   "cell_type": "code",
   "execution_count": 21,
   "id": "bb99cbcc-2426-42a8-8f3b-889ad698135b",
   "metadata": {},
   "outputs": [
    {
     "data": {
      "text/html": [
       "<div>\n",
       "<style scoped>\n",
       "    .dataframe tbody tr th:only-of-type {\n",
       "        vertical-align: middle;\n",
       "    }\n",
       "\n",
       "    .dataframe tbody tr th {\n",
       "        vertical-align: top;\n",
       "    }\n",
       "\n",
       "    .dataframe thead th {\n",
       "        text-align: right;\n",
       "    }\n",
       "</style>\n",
       "<table border=\"1\" class=\"dataframe\">\n",
       "  <thead>\n",
       "    <tr style=\"text-align: right;\">\n",
       "      <th></th>\n",
       "      <th>fecha</th>\n",
       "      <th>codigo</th>\n",
       "      <th>venta</th>\n",
       "    </tr>\n",
       "  </thead>\n",
       "  <tbody>\n",
       "    <tr>\n",
       "      <th>0</th>\n",
       "      <td>2022-11-01</td>\n",
       "      <td>1434</td>\n",
       "      <td>121672.710000</td>\n",
       "    </tr>\n",
       "    <tr>\n",
       "      <th>1</th>\n",
       "      <td>2022-11-02</td>\n",
       "      <td>1656</td>\n",
       "      <td>133636.640000</td>\n",
       "    </tr>\n",
       "    <tr>\n",
       "      <th>2</th>\n",
       "      <td>2022-11-03</td>\n",
       "      <td>1875</td>\n",
       "      <td>210932.180000</td>\n",
       "    </tr>\n",
       "    <tr>\n",
       "      <th>3</th>\n",
       "      <td>2022-11-04</td>\n",
       "      <td>1434</td>\n",
       "      <td>111660.390000</td>\n",
       "    </tr>\n",
       "    <tr>\n",
       "      <th>4</th>\n",
       "      <td>2022-11-05</td>\n",
       "      <td>1545</td>\n",
       "      <td>146417.560000</td>\n",
       "    </tr>\n",
       "    <tr>\n",
       "      <th>...</th>\n",
       "      <td>...</td>\n",
       "      <td>...</td>\n",
       "      <td>...</td>\n",
       "    </tr>\n",
       "    <tr>\n",
       "      <th>512</th>\n",
       "      <td>2024-03-27</td>\n",
       "      <td>1156</td>\n",
       "      <td>452331.135622</td>\n",
       "    </tr>\n",
       "    <tr>\n",
       "      <th>513</th>\n",
       "      <td>2024-03-28</td>\n",
       "      <td>1375</td>\n",
       "      <td>246045.083440</td>\n",
       "    </tr>\n",
       "    <tr>\n",
       "      <th>514</th>\n",
       "      <td>2024-03-29</td>\n",
       "      <td>934</td>\n",
       "      <td>425815.429745</td>\n",
       "    </tr>\n",
       "    <tr>\n",
       "      <th>515</th>\n",
       "      <td>2024-03-30</td>\n",
       "      <td>1156</td>\n",
       "      <td>320997.018300</td>\n",
       "    </tr>\n",
       "    <tr>\n",
       "      <th>516</th>\n",
       "      <td>2024-03-31</td>\n",
       "      <td>1375</td>\n",
       "      <td>435508.682265</td>\n",
       "    </tr>\n",
       "  </tbody>\n",
       "</table>\n",
       "<p>517 rows × 3 columns</p>\n",
       "</div>"
      ],
      "text/plain": [
       "         fecha  codigo          venta\n",
       "0   2022-11-01    1434  121672.710000\n",
       "1   2022-11-02    1656  133636.640000\n",
       "2   2022-11-03    1875  210932.180000\n",
       "3   2022-11-04    1434  111660.390000\n",
       "4   2022-11-05    1545  146417.560000\n",
       "..         ...     ...            ...\n",
       "512 2024-03-27    1156  452331.135622\n",
       "513 2024-03-28    1375  246045.083440\n",
       "514 2024-03-29     934  425815.429745\n",
       "515 2024-03-30    1156  320997.018300\n",
       "516 2024-03-31    1375  435508.682265\n",
       "\n",
       "[517 rows x 3 columns]"
      ]
     },
     "execution_count": 21,
     "metadata": {},
     "output_type": "execute_result"
    }
   ],
   "source": [
    "df"
   ]
  },
  {
   "cell_type": "code",
   "execution_count": null,
   "id": "8a8a54e8-6fe0-4262-8240-c733f7267ffb",
   "metadata": {},
   "outputs": [],
   "source": []
  },
  {
   "cell_type": "code",
   "execution_count": null,
   "id": "38485f14-9d54-489a-9c03-524291619534",
   "metadata": {},
   "outputs": [],
   "source": []
  },
  {
   "cell_type": "code",
   "execution_count": null,
   "id": "4f6abc26-dd45-4162-91bf-8b0722c500dd",
   "metadata": {},
   "outputs": [],
   "source": []
  },
  {
   "cell_type": "markdown",
   "id": "0b2c7c17-d786-4f3c-a962-26272c4ccf3e",
   "metadata": {},
   "source": [
    "**Último paso**: Guardar los datos (union, joins) en un o más archivos, según sea necesario:"
   ]
  },
  {
   "cell_type": "code",
   "execution_count": 23,
   "id": "b0a25943-e50e-4445-94dd-107bb0a955fa",
   "metadata": {},
   "outputs": [],
   "source": [
    "df.to_csv(landing_dir + 'datos_consolidados.csv', index=False)"
   ]
  },
  {
   "cell_type": "code",
   "execution_count": null,
   "id": "9d7b1911-1a17-4e90-a8e9-c7f34fea7efa",
   "metadata": {},
   "outputs": [],
   "source": []
  }
 ],
 "metadata": {
  "kernelspec": {
   "display_name": "Python 3 (ipykernel)",
   "language": "python",
   "name": "python3"
  },
  "language_info": {
   "codemirror_mode": {
    "name": "ipython",
    "version": 3
   },
   "file_extension": ".py",
   "mimetype": "text/x-python",
   "name": "python",
   "nbconvert_exporter": "python",
   "pygments_lexer": "ipython3",
   "version": "3.12.2"
  }
 },
 "nbformat": 4,
 "nbformat_minor": 5
}
