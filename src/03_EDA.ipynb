{
 "cells": [
  {
   "cell_type": "markdown",
   "id": "32add387-ed7e-4a69-a17a-89368c4bc9d3",
   "metadata": {},
   "source": [
    "# Universidad Libre - Seccional Cali<br>Facultad de Ingeniería - Diplomado en Ciencia de Datos<br>(ↄ) Diego Fernando Marin, 2024\n",
    "\n",
    "# 03_EDA\n",
    "Plantilla para el desarrollo del proyecto del diplomado de Ciencia de Datos, aplicando buenas prácticas.\n",
    "\n",
    "---"
   ]
  },
  {
   "cell_type": "markdown",
   "id": "a57d39a3-81b9-4d77-ad0f-8910cedf3a97",
   "metadata": {},
   "source": [
    "Este cuaderno se centra en comprender profundamente los datos mediante análisis estadístico y visualización. El EDA nos permite descubrir patrones, relaciones y características importantes en los datos.\n",
    "\n",
    "**Propósito:** Obtener insights sobre los datos y preparar el terreno para la selección de características relevantes para el modelado.\n",
    "\n",
    "**Tareas habituales:**\n",
    "- Análisis univariante de variables\n",
    "- Análisis de correlaciones\n",
    "- Visualización de distribuciones\n",
    "- Detección de patrones y tendencias\n",
    "- Análisis de series temporales si aplica\n",
    "- Identificación de relaciones entre variables\n",
    "- Generación de hipótesis\n",
    "- Documentación de insights importantes\n",
    "\n",
    "**Cada sección debe tener**:\n",
    "- La Pregunta que se realiza sobre los datos\n",
    "- El código que genera las tablas o los gráficos donde encontramos la respuesta\n",
    "- El código que da respuesta a dicha pregunta\n",
    "- La interpretar del resultado\n",
    "- Las conclusiones"
   ]
  },
  {
   "cell_type": "code",
   "execution_count": 1,
   "id": "1216e901-77d8-4960-9be7-0d94d45fad84",
   "metadata": {},
   "outputs": [],
   "source": [
    "import os\n",
    "import pandas as pd\n",
    "import matplotlib.pyplot as plt"
   ]
  },
  {
   "cell_type": "code",
   "execution_count": 2,
   "id": "bcfeaec2-3bd7-41c4-a75f-eff52aacd984",
   "metadata": {},
   "outputs": [],
   "source": [
    "cwd = os.getcwd() # current working directory\n",
    "trusted_dir = cwd + '/../data/trusted/'"
   ]
  },
  {
   "cell_type": "code",
   "execution_count": 3,
   "id": "5ecd897f-a6cb-4e73-994c-7c3cf48f346a",
   "metadata": {},
   "outputs": [],
   "source": [
    "df = pd.read_csv(trusted_dir + 'datos_limpios.csv', parse_dates=['fecha'])"
   ]
  },
  {
   "cell_type": "code",
   "execution_count": 15,
   "id": "e3486e44-494b-4b60-aeb9-ca864f7189f1",
   "metadata": {},
   "outputs": [
    {
     "data": {
      "text/html": [
       "<div>\n",
       "<style scoped>\n",
       "    .dataframe tbody tr th:only-of-type {\n",
       "        vertical-align: middle;\n",
       "    }\n",
       "\n",
       "    .dataframe tbody tr th {\n",
       "        vertical-align: top;\n",
       "    }\n",
       "\n",
       "    .dataframe thead th {\n",
       "        text-align: right;\n",
       "    }\n",
       "</style>\n",
       "<table border=\"1\" class=\"dataframe\">\n",
       "  <thead>\n",
       "    <tr style=\"text-align: right;\">\n",
       "      <th></th>\n",
       "      <th>fecha</th>\n",
       "      <th>SKU</th>\n",
       "      <th>vental_total</th>\n",
       "      <th>dia</th>\n",
       "      <th>mes</th>\n",
       "      <th>año</th>\n",
       "      <th>weekday</th>\n",
       "      <th>dia_semana</th>\n",
       "    </tr>\n",
       "  </thead>\n",
       "  <tbody>\n",
       "    <tr>\n",
       "      <th>0</th>\n",
       "      <td>2022-11-01</td>\n",
       "      <td>1434</td>\n",
       "      <td>121672.710000</td>\n",
       "      <td>1</td>\n",
       "      <td>11</td>\n",
       "      <td>2022</td>\n",
       "      <td>1</td>\n",
       "      <td>M</td>\n",
       "    </tr>\n",
       "    <tr>\n",
       "      <th>1</th>\n",
       "      <td>2022-11-02</td>\n",
       "      <td>1656</td>\n",
       "      <td>133636.640000</td>\n",
       "      <td>2</td>\n",
       "      <td>11</td>\n",
       "      <td>2022</td>\n",
       "      <td>2</td>\n",
       "      <td>X</td>\n",
       "    </tr>\n",
       "    <tr>\n",
       "      <th>2</th>\n",
       "      <td>2022-11-03</td>\n",
       "      <td>1875</td>\n",
       "      <td>210932.180000</td>\n",
       "      <td>3</td>\n",
       "      <td>11</td>\n",
       "      <td>2022</td>\n",
       "      <td>3</td>\n",
       "      <td>J</td>\n",
       "    </tr>\n",
       "    <tr>\n",
       "      <th>3</th>\n",
       "      <td>2022-11-04</td>\n",
       "      <td>1434</td>\n",
       "      <td>111660.390000</td>\n",
       "      <td>4</td>\n",
       "      <td>11</td>\n",
       "      <td>2022</td>\n",
       "      <td>4</td>\n",
       "      <td>V</td>\n",
       "    </tr>\n",
       "    <tr>\n",
       "      <th>4</th>\n",
       "      <td>2022-11-05</td>\n",
       "      <td>1545</td>\n",
       "      <td>146417.560000</td>\n",
       "      <td>5</td>\n",
       "      <td>11</td>\n",
       "      <td>2022</td>\n",
       "      <td>5</td>\n",
       "      <td>S</td>\n",
       "    </tr>\n",
       "    <tr>\n",
       "      <th>...</th>\n",
       "      <td>...</td>\n",
       "      <td>...</td>\n",
       "      <td>...</td>\n",
       "      <td>...</td>\n",
       "      <td>...</td>\n",
       "      <td>...</td>\n",
       "      <td>...</td>\n",
       "      <td>...</td>\n",
       "    </tr>\n",
       "    <tr>\n",
       "      <th>512</th>\n",
       "      <td>2024-03-27</td>\n",
       "      <td>1156</td>\n",
       "      <td>452331.135622</td>\n",
       "      <td>27</td>\n",
       "      <td>3</td>\n",
       "      <td>2024</td>\n",
       "      <td>2</td>\n",
       "      <td>X</td>\n",
       "    </tr>\n",
       "    <tr>\n",
       "      <th>513</th>\n",
       "      <td>2024-03-28</td>\n",
       "      <td>1375</td>\n",
       "      <td>246045.083440</td>\n",
       "      <td>28</td>\n",
       "      <td>3</td>\n",
       "      <td>2024</td>\n",
       "      <td>3</td>\n",
       "      <td>J</td>\n",
       "    </tr>\n",
       "    <tr>\n",
       "      <th>514</th>\n",
       "      <td>2024-03-29</td>\n",
       "      <td>934</td>\n",
       "      <td>425815.429745</td>\n",
       "      <td>29</td>\n",
       "      <td>3</td>\n",
       "      <td>2024</td>\n",
       "      <td>4</td>\n",
       "      <td>V</td>\n",
       "    </tr>\n",
       "    <tr>\n",
       "      <th>515</th>\n",
       "      <td>2024-03-30</td>\n",
       "      <td>1156</td>\n",
       "      <td>320997.018300</td>\n",
       "      <td>30</td>\n",
       "      <td>3</td>\n",
       "      <td>2024</td>\n",
       "      <td>5</td>\n",
       "      <td>S</td>\n",
       "    </tr>\n",
       "    <tr>\n",
       "      <th>516</th>\n",
       "      <td>2024-03-31</td>\n",
       "      <td>1375</td>\n",
       "      <td>435508.682266</td>\n",
       "      <td>31</td>\n",
       "      <td>3</td>\n",
       "      <td>2024</td>\n",
       "      <td>6</td>\n",
       "      <td>D</td>\n",
       "    </tr>\n",
       "  </tbody>\n",
       "</table>\n",
       "<p>517 rows × 8 columns</p>\n",
       "</div>"
      ],
      "text/plain": [
       "         fecha   SKU   vental_total  dia  mes   año  weekday dia_semana\n",
       "0   2022-11-01  1434  121672.710000    1   11  2022        1          M\n",
       "1   2022-11-02  1656  133636.640000    2   11  2022        2          X\n",
       "2   2022-11-03  1875  210932.180000    3   11  2022        3          J\n",
       "3   2022-11-04  1434  111660.390000    4   11  2022        4          V\n",
       "4   2022-11-05  1545  146417.560000    5   11  2022        5          S\n",
       "..         ...   ...            ...  ...  ...   ...      ...        ...\n",
       "512 2024-03-27  1156  452331.135622   27    3  2024        2          X\n",
       "513 2024-03-28  1375  246045.083440   28    3  2024        3          J\n",
       "514 2024-03-29   934  425815.429745   29    3  2024        4          V\n",
       "515 2024-03-30  1156  320997.018300   30    3  2024        5          S\n",
       "516 2024-03-31  1375  435508.682266   31    3  2024        6          D\n",
       "\n",
       "[517 rows x 8 columns]"
      ]
     },
     "execution_count": 15,
     "metadata": {},
     "output_type": "execute_result"
    }
   ],
   "source": [
    "df"
   ]
  },
  {
   "cell_type": "code",
   "execution_count": 9,
   "id": "f2af4c98-7391-4928-b61f-683e933432c2",
   "metadata": {},
   "outputs": [
    {
     "name": "stdout",
     "output_type": "stream",
     "text": [
      "<class 'pandas.core.frame.DataFrame'>\n",
      "RangeIndex: 517 entries, 0 to 516\n",
      "Data columns (total 8 columns):\n",
      " #   Column        Non-Null Count  Dtype         \n",
      "---  ------        --------------  -----         \n",
      " 0   fecha         517 non-null    datetime64[ns]\n",
      " 1   SKU           517 non-null    int64         \n",
      " 2   vental_total  517 non-null    float64       \n",
      " 3   dia           517 non-null    int64         \n",
      " 4   mes           517 non-null    int64         \n",
      " 5   año           517 non-null    int64         \n",
      " 6   weekday       517 non-null    int64         \n",
      " 7   dia_semana    517 non-null    object        \n",
      "dtypes: datetime64[ns](1), float64(1), int64(5), object(1)\n",
      "memory usage: 32.4+ KB\n"
     ]
    }
   ],
   "source": [
    "df.info()"
   ]
  },
  {
   "cell_type": "code",
   "execution_count": 11,
   "id": "c3cac38e-4c02-40b1-87b8-4d641fb14728",
   "metadata": {},
   "outputs": [
    {
     "data": {
      "text/plain": [
       "count       517.000000\n",
       "mean     268004.776368\n",
       "std      108913.478612\n",
       "min       92577.900000\n",
       "25%      163098.190000\n",
       "50%      285168.248500\n",
       "75%      370669.886000\n",
       "max      452331.135622\n",
       "Name: vental_total, dtype: float64"
      ]
     },
     "execution_count": 11,
     "metadata": {},
     "output_type": "execute_result"
    }
   ],
   "source": [
    "df.vental_total.describe()"
   ]
  },
  {
   "cell_type": "markdown",
   "id": "0dcb7da3-f4a4-4042-8e08-e25a16adafd8",
   "metadata": {},
   "source": [
    "# Análisis de Datos"
   ]
  },
  {
   "cell_type": "markdown",
   "id": "6e913092-48ee-4a3c-bf2b-6566c559e787",
   "metadata": {},
   "source": [
    "**Pregunta**: Cuál es el promedio de ventas por mes/año?"
   ]
  },
  {
   "cell_type": "code",
   "execution_count": 13,
   "id": "6d32c0c4-cddc-4001-a26a-883e9ae265a0",
   "metadata": {},
   "outputs": [
    {
     "data": {
      "text/plain": [
       "año   mes\n",
       "2022  11     150319.656333\n",
       "      12     153705.420323\n",
       "2023  1      151980.946129\n",
       "      2      295981.772018\n",
       "      3      323387.356296\n",
       "      4      329503.481035\n",
       "      5      292378.040323\n",
       "      6      329503.481035\n",
       "      7      295608.872581\n",
       "      8      323387.356296\n",
       "      9      293595.525167\n",
       "      10     292378.040323\n",
       "      11     289768.312133\n",
       "      12     151980.946129\n",
       "2024  1      257246.060000\n",
       "      2      285681.692966\n",
       "      3      345221.058331\n",
       "Name: vental_total, dtype: float64"
      ]
     },
     "execution_count": 13,
     "metadata": {},
     "output_type": "execute_result"
    }
   ],
   "source": [
    "# código para responder la pregunta\n",
    "df.groupby(['año', 'mes'])['vental_total'].mean()"
   ]
  },
  {
   "cell_type": "code",
   "execution_count": null,
   "id": "77375ed1-2670-4133-8afd-1900d0a3fff1",
   "metadata": {},
   "outputs": [],
   "source": [
    "# hacer una gráfica de los datos\n"
   ]
  },
  {
   "cell_type": "markdown",
   "id": "a6fe5ee8-2e14-4007-b882-a6467433673e",
   "metadata": {},
   "source": [
    "**Respuesta**: Como se puede observar en la gráfica, blablabla"
   ]
  },
  {
   "cell_type": "markdown",
   "id": "f4b48e56-8c2d-4e58-922e-0a7387e88ec7",
   "metadata": {},
   "source": [
    "**Conclusión**: Se observa que los meses con mayor venta promedio son los meses de vacaciones.\n",
    "- apuntan a los _Insights_, un descubrimiento sobre los datos"
   ]
  },
  {
   "cell_type": "markdown",
   "id": "f89dbab1-3b98-4982-a7e3-1c619ccb10cb",
   "metadata": {},
   "source": [
    "## Análisis de Correlación\n",
    "\n",
    "Identificar las columnas que tienen mayor impacto sobre mi modelo"
   ]
  },
  {
   "cell_type": "code",
   "execution_count": null,
   "id": "94393822-afdd-4175-b868-bfe65e3fb8d7",
   "metadata": {},
   "outputs": [],
   "source": []
  },
  {
   "cell_type": "code",
   "execution_count": null,
   "id": "34195558-a597-4a7c-a74c-1f22324de214",
   "metadata": {},
   "outputs": [],
   "source": []
  },
  {
   "cell_type": "code",
   "execution_count": null,
   "id": "e36f5cde-0d9f-458d-9125-6e1d37a488b1",
   "metadata": {},
   "outputs": [],
   "source": []
  },
  {
   "cell_type": "markdown",
   "id": "faa476df-788e-4120-bc83-bad6d82eca1d",
   "metadata": {},
   "source": [
    "**Último paso**: Guardar los datos ya analizados, organizados y listos para entrenar un modelo ML"
   ]
  },
  {
   "cell_type": "code",
   "execution_count": 17,
   "id": "7b060aed-29a5-4aaa-b271-ce5d7860a2b8",
   "metadata": {},
   "outputs": [],
   "source": [
    "df.to_csv(trusted_dir + 'datos_limpios_ml.csv', index=False)"
   ]
  },
  {
   "cell_type": "code",
   "execution_count": null,
   "id": "a268d16d-5285-4a4c-9ee7-a3186f212f45",
   "metadata": {},
   "outputs": [],
   "source": []
  }
 ],
 "metadata": {
  "kernelspec": {
   "display_name": "Python 3 (ipykernel)",
   "language": "python",
   "name": "python3"
  },
  "language_info": {
   "codemirror_mode": {
    "name": "ipython",
    "version": 3
   },
   "file_extension": ".py",
   "mimetype": "text/x-python",
   "name": "python",
   "nbconvert_exporter": "python",
   "pygments_lexer": "ipython3",
   "version": "3.12.2"
  }
 },
 "nbformat": 4,
 "nbformat_minor": 5
}
