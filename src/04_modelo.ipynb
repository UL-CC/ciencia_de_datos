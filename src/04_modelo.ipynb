{
 "cells": [
  {
   "cell_type": "markdown",
   "id": "3a49f12a-8921-4f8a-a401-9bacb2a10ead",
   "metadata": {},
   "source": [
    "# Universidad Libre - Seccional Cali<br>Facultad de Ingeniería - Diplomado en Ciencia de Datos<br>(ↄ) Diego Fernando Marin, 2024\n",
    "\n",
    "# 04_modelo\n",
    "Plantilla para el desarrollo del proyecto del diplomado de Ciencia de Datos, aplicando buenas prácticas.\n",
    "\n",
    "---"
   ]
  },
  {
   "cell_type": "markdown",
   "id": "ceb285fe-e95c-45ca-97db-0383c74bf180",
   "metadata": {},
   "source": [
    "Este cuaderno representa la culminación del proceso, donde aplicamos técnicas de machine learning para crear modelos predictivos o descriptivos basados en los datos preparados.\n",
    "\n",
    "**Propósito:** Desarrollar, entrenar y validar modelos de machine learning que respondan a los objetivos del proyecto.\n",
    "\n",
    "**Tareas habituales:**\n",
    "- Selección de características (feature selection)\n",
    "- Ingeniería de características (feature engineering)\n",
    "- División de datos en conjuntos de entrenamiento y prueba\n",
    "- Selección y entrenamiento de modelos\n",
    "- Optimización de hiperparámetros\n",
    "- Validación cruzada\n",
    "- Evaluación de métricas de rendimiento\n",
    "- Documentación del proceso de modelado\n",
    "- Guardado y versionado de modelos\n",
    "- Análisis de importancia de características"
   ]
  },
  {
   "cell_type": "code",
   "execution_count": null,
   "id": "c7b30321-cb61-438d-bf23-86aff702f359",
   "metadata": {},
   "outputs": [],
   "source": [
    "import os\n",
    "import pandas as pd\n",
    "import matplotlib.pyplot as plt"
   ]
  },
  {
   "cell_type": "code",
   "execution_count": null,
   "id": "2a82bfe5-5c38-4fc9-8f2a-31234ef20101",
   "metadata": {},
   "outputs": [],
   "source": [
    "cwd = os.getcwd() # current working directory\n",
    "trusted_dir = cwd + '/../data/trusted/'\n",
    "surface_dir = cwd + '/../data/surface/'"
   ]
  },
  {
   "cell_type": "code",
   "execution_count": null,
   "id": "89902c05-7274-476e-9b86-a8f40e4fffa0",
   "metadata": {},
   "outputs": [],
   "source": [
    "df = pd.read_csv(trusted_dir + 'datos_limpios_ml.csv', parse_dates=['fecha'])"
   ]
  },
  {
   "cell_type": "markdown",
   "id": "eb451f6e-f9ab-44b0-bc84-177fd73f5ec3",
   "metadata": {},
   "source": [
    "## Diseñar el Modelo"
   ]
  },
  {
   "cell_type": "code",
   "execution_count": null,
   "id": "0e046c1f-8012-4668-98f7-709297f1423b",
   "metadata": {},
   "outputs": [],
   "source": []
  },
  {
   "cell_type": "code",
   "execution_count": null,
   "id": "ec7a05ed-7a18-4588-9752-7831cbff79b7",
   "metadata": {},
   "outputs": [],
   "source": []
  },
  {
   "cell_type": "markdown",
   "id": "0c7f849b-5214-411a-a72d-5ef851073ce1",
   "metadata": {},
   "source": [
    "## Entrenar el Modelo"
   ]
  },
  {
   "cell_type": "code",
   "execution_count": null,
   "id": "ee1e252e-df8e-4a22-b8e9-780c01acf21d",
   "metadata": {},
   "outputs": [],
   "source": []
  },
  {
   "cell_type": "code",
   "execution_count": null,
   "id": "b5ea1561-7456-48e3-b875-22e9c1627580",
   "metadata": {},
   "outputs": [],
   "source": []
  },
  {
   "cell_type": "markdown",
   "id": "5f66dcdf-c181-43bb-bdb5-1e1e30fcc9d9",
   "metadata": {},
   "source": [
    "## Verificar el Modelo - Hacer Pruebas"
   ]
  },
  {
   "cell_type": "code",
   "execution_count": null,
   "id": "71f4a12c-a79e-41e2-849c-ced7908adaab",
   "metadata": {},
   "outputs": [],
   "source": []
  },
  {
   "cell_type": "code",
   "execution_count": null,
   "id": "58871b43-85a9-4f24-99bd-22856a6fba79",
   "metadata": {},
   "outputs": [],
   "source": []
  },
  {
   "cell_type": "markdown",
   "id": "73391ae3-0007-40f5-b20f-2cf5768e73c4",
   "metadata": {},
   "source": [
    "**Último paso**: Guardar el Modelo para ser utilizado en el **Producto de Datos**"
   ]
  },
  {
   "cell_type": "code",
   "execution_count": null,
   "id": "1c6b4a0c-a32e-4d7e-88a1-d7e4c0e96238",
   "metadata": {},
   "outputs": [],
   "source": []
  },
  {
   "cell_type": "markdown",
   "id": "7e60fc89-45aa-4d44-bb5f-6315d4c10294",
   "metadata": {},
   "source": [
    "**Producto de Datos**:\n",
    "\n",
    "- Aplicación Web, formulario que pide los datos y entrega la estimación/predicción/etc.\n",
    "- Aplicación Móvil\n",
    "- Tablero o _Dashboard_: Dash, Streamlit, Flask, PowerBI, Tableau, Qlik, Looker\n",
    "- API: permite hacer las consultas para \"embeberlas\" en una aplicación de usuario\n"
   ]
  }
 ],
 "metadata": {
  "kernelspec": {
   "display_name": "Python 3 (ipykernel)",
   "language": "python",
   "name": "python3"
  },
  "language_info": {
   "codemirror_mode": {
    "name": "ipython",
    "version": 3
   },
   "file_extension": ".py",
   "mimetype": "text/x-python",
   "name": "python",
   "nbconvert_exporter": "python",
   "pygments_lexer": "ipython3",
   "version": "3.12.2"
  }
 },
 "nbformat": 4,
 "nbformat_minor": 5
}
